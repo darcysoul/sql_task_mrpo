{
 "cells": [
  {
   "cell_type": "markdown",
   "metadata": {},
   "source": [
    "### Импортируем библиотеки"
   ]
  },
  {
   "cell_type": "code",
   "execution_count": 354,
   "metadata": {},
   "outputs": [],
   "source": [
    "from IPython.display import display\n",
    "import pandas as pd\n",
    "import numpy as np"
   ]
  },
  {
   "cell_type": "markdown",
   "metadata": {},
   "source": [
    "### Загрузим данные о категориях и просто данные"
   ]
  },
  {
   "cell_type": "markdown",
   "metadata": {},
   "source": [
    "#### О категориях\n"
   ]
  },
  {
   "cell_type": "code",
   "execution_count": 355,
   "metadata": {},
   "outputs": [],
   "source": [
    "categories_df = pd.read_csv(\"categories.csv\", sep=\",\")"
   ]
  },
  {
   "cell_type": "markdown",
   "metadata": {},
   "source": [
    "#### Сырые данные"
   ]
  },
  {
   "cell_type": "code",
   "execution_count": 356,
   "metadata": {},
   "outputs": [],
   "source": [
    "data = pd.read_csv(\"data.csv\", sep=\";\")"
   ]
  },
  {
   "cell_type": "markdown",
   "metadata": {},
   "source": [
    "### Проанализруем данные"
   ]
  },
  {
   "cell_type": "markdown",
   "metadata": {},
   "source": [
    "#### О категориях"
   ]
  },
  {
   "cell_type": "code",
   "execution_count": 357,
   "metadata": {},
   "outputs": [
    {
     "data": {
      "text/html": [
       "<div>\n",
       "<style scoped>\n",
       "    .dataframe tbody tr th:only-of-type {\n",
       "        vertical-align: middle;\n",
       "    }\n",
       "\n",
       "    .dataframe tbody tr th {\n",
       "        vertical-align: top;\n",
       "    }\n",
       "\n",
       "    .dataframe thead th {\n",
       "        text-align: right;\n",
       "    }\n",
       "</style>\n",
       "<table border=\"1\" class=\"dataframe\">\n",
       "  <thead>\n",
       "    <tr style=\"text-align: right;\">\n",
       "      <th></th>\n",
       "      <th>id</th>\n",
       "      <th>parent_id</th>\n",
       "      <th>name</th>\n",
       "    </tr>\n",
       "  </thead>\n",
       "  <tbody>\n",
       "    <tr>\n",
       "      <th>0</th>\n",
       "      <td>2891</td>\n",
       "      <td>NaN</td>\n",
       "      <td>Продукция</td>\n",
       "    </tr>\n",
       "    <tr>\n",
       "      <th>1</th>\n",
       "      <td>4047</td>\n",
       "      <td>2891.0</td>\n",
       "      <td>Коллекции</td>\n",
       "    </tr>\n",
       "    <tr>\n",
       "      <th>2</th>\n",
       "      <td>4058</td>\n",
       "      <td>4047.0</td>\n",
       "      <td>«Зеленая» серия</td>\n",
       "    </tr>\n",
       "    <tr>\n",
       "      <th>3</th>\n",
       "      <td>4050</td>\n",
       "      <td>4058.0</td>\n",
       "      <td>Товары из бамбука</td>\n",
       "    </tr>\n",
       "    <tr>\n",
       "      <th>4</th>\n",
       "      <td>4053</td>\n",
       "      <td>4058.0</td>\n",
       "      <td>Товары из переработанных материалов</td>\n",
       "    </tr>\n",
       "  </tbody>\n",
       "</table>\n",
       "</div>"
      ],
      "text/plain": [
       "     id  parent_id                                 name\n",
       "0  2891        NaN                            Продукция\n",
       "1  4047     2891.0                            Коллекции\n",
       "2  4058     4047.0                      «Зеленая» серия\n",
       "3  4050     4058.0                    Товары из бамбука\n",
       "4  4053     4058.0  Товары из переработанных материалов"
      ]
     },
     "metadata": {},
     "output_type": "display_data"
    },
    {
     "name": "stdout",
     "output_type": "stream",
     "text": [
      "Размер\n"
     ]
    },
    {
     "data": {
      "text/plain": [
       "(510, 3)"
      ]
     },
     "metadata": {},
     "output_type": "display_data"
    },
    {
     "name": "stdout",
     "output_type": "stream",
     "text": [
      "Пропушенные значения\n"
     ]
    },
    {
     "data": {
      "text/plain": [
       "0"
      ]
     },
     "metadata": {},
     "output_type": "display_data"
    }
   ],
   "source": [
    "display(categories_df.head())\n",
    "print('Размер')\n",
    "display(categories_df.shape)\n",
    "print('Пропушенные значения')\n",
    "display(categories_df['id'].isna().sum())"
   ]
  },
  {
   "cell_type": "markdown",
   "metadata": {},
   "source": [
    "Видим,что нет пропущенных индексов."
   ]
  },
  {
   "cell_type": "markdown",
   "metadata": {},
   "source": [
    "#### Сырые данные"
   ]
  },
  {
   "cell_type": "code",
   "execution_count": 358,
   "metadata": {},
   "outputs": [
    {
     "name": "stdout",
     "output_type": "stream",
     "text": [
      "Начало датасета\n"
     ]
    },
    {
     "data": {
      "text/html": [
       "<div>\n",
       "<style scoped>\n",
       "    .dataframe tbody tr th:only-of-type {\n",
       "        vertical-align: middle;\n",
       "    }\n",
       "\n",
       "    .dataframe tbody tr th {\n",
       "        vertical-align: top;\n",
       "    }\n",
       "\n",
       "    .dataframe thead th {\n",
       "        text-align: right;\n",
       "    }\n",
       "</style>\n",
       "<table border=\"1\" class=\"dataframe\">\n",
       "  <thead>\n",
       "    <tr style=\"text-align: right;\">\n",
       "      <th></th>\n",
       "      <th>id</th>\n",
       "      <th>url</th>\n",
       "      <th>currencyid</th>\n",
       "      <th>shortname</th>\n",
       "      <th>name</th>\n",
       "      <th>vendorcode</th>\n",
       "      <th>price</th>\n",
       "      <th>description</th>\n",
       "      <th>categoryid</th>\n",
       "      <th>rating</th>\n",
       "      <th>dealerPrice</th>\n",
       "      <th>weight</th>\n",
       "      <th>color</th>\n",
       "      <th>material</th>\n",
       "      <th>prodsize</th>\n",
       "      <th>qtypics</th>\n",
       "      <th>picssize</th>\n",
       "      <th>applicMetod</th>\n",
       "      <th>fullCategories</th>\n",
       "    </tr>\n",
       "  </thead>\n",
       "  <tbody>\n",
       "    <tr>\n",
       "      <th>0</th>\n",
       "      <td>8096.0</td>\n",
       "      <td>https://www.oasiscatalog.com/item/1-000003472</td>\n",
       "      <td>RUB</td>\n",
       "      <td>Фонарик Lyra</td>\n",
       "      <td>Фонарик Lyra с карабином, синий</td>\n",
       "      <td>10418201</td>\n",
       "      <td>145.0</td>\n",
       "      <td>Компактный карманный фонарик с прочным карабин...</td>\n",
       "      <td>2930.0</td>\n",
       "      <td>5.0</td>\n",
       "      <td>101.5</td>\n",
       "      <td>NaN</td>\n",
       "      <td>синий</td>\n",
       "      <td>алюминий</td>\n",
       "      <td>d1 х 6</td>\n",
       "      <td>NaN</td>\n",
       "      <td>NaN</td>\n",
       "      <td>Тампопечать</td>\n",
       "      <td>['2891', '2892', '2930']</td>\n",
       "    </tr>\n",
       "    <tr>\n",
       "      <th>1</th>\n",
       "      <td>8097.0</td>\n",
       "      <td>https://www.oasiscatalog.com/item/1-000003476</td>\n",
       "      <td>RUB</td>\n",
       "      <td>Брелок-фонарик Lobster</td>\n",
       "      <td>Брелок-фонарик Lobster с функцией открывалки, ...</td>\n",
       "      <td>10418400</td>\n",
       "      <td>213.0</td>\n",
       "      <td>Брелок-фонарик с функцией открывалки – функцио...</td>\n",
       "      <td>2930.0</td>\n",
       "      <td>0.0</td>\n",
       "      <td>149.1</td>\n",
       "      <td>NaN</td>\n",
       "      <td>черный/серебристый</td>\n",
       "      <td>металл</td>\n",
       "      <td>d2,3 х 6,3</td>\n",
       "      <td>NaN</td>\n",
       "      <td>NaN</td>\n",
       "      <td>Гравировка круговая</td>\n",
       "      <td>['2891', '2892', '2930', '2953', '2972', '2974...</td>\n",
       "    </tr>\n",
       "    <tr>\n",
       "      <th>2</th>\n",
       "      <td>8098.0</td>\n",
       "      <td>https://www.oasiscatalog.com/item/1-000003477</td>\n",
       "      <td>RUB</td>\n",
       "      <td>Брелок-фонарик Lobster</td>\n",
       "      <td>Брелок-фонарик Lobster с функцией открывалки, ...</td>\n",
       "      <td>10418401</td>\n",
       "      <td>213.0</td>\n",
       "      <td>Брелок-фонарик с функцией открывалки – функцио...</td>\n",
       "      <td>2930.0</td>\n",
       "      <td>0.0</td>\n",
       "      <td>149.1</td>\n",
       "      <td>NaN</td>\n",
       "      <td>синий/серебристый</td>\n",
       "      <td>металл</td>\n",
       "      <td>d2,3 х 6,3</td>\n",
       "      <td>NaN</td>\n",
       "      <td>NaN</td>\n",
       "      <td>Гравировка круговая</td>\n",
       "      <td>['2891', '2892', '2930', '2953', '2972', '2974...</td>\n",
       "    </tr>\n",
       "    <tr>\n",
       "      <th>3</th>\n",
       "      <td>8099.0</td>\n",
       "      <td>https://www.oasiscatalog.com/item/1-000003478</td>\n",
       "      <td>RUB</td>\n",
       "      <td>Брелок-фонарик Lobster</td>\n",
       "      <td>Брелок-фонарик Lobster с функцией открывалки, ...</td>\n",
       "      <td>10418402</td>\n",
       "      <td>213.0</td>\n",
       "      <td>Брелок-фонарик с функцией открывалки – функцио...</td>\n",
       "      <td>2930.0</td>\n",
       "      <td>5.0</td>\n",
       "      <td>149.1</td>\n",
       "      <td>NaN</td>\n",
       "      <td>красный/серебристый</td>\n",
       "      <td>металл</td>\n",
       "      <td>d2,3 х 6,3</td>\n",
       "      <td>NaN</td>\n",
       "      <td>NaN</td>\n",
       "      <td>Гравировка круговая</td>\n",
       "      <td>['2891', '2892', '2930', '2953', '2972', '2974...</td>\n",
       "    </tr>\n",
       "    <tr>\n",
       "      <th>4</th>\n",
       "      <td>8100.0</td>\n",
       "      <td>https://www.oasiscatalog.com/item/1-000003479</td>\n",
       "      <td>RUB</td>\n",
       "      <td>Брелок-фонарик Lobster</td>\n",
       "      <td>Брелок-фонарик Lobster с функцией открывалки, ...</td>\n",
       "      <td>10418403</td>\n",
       "      <td>213.0</td>\n",
       "      <td>Брелок-фонарик с функцией открывалки – функцио...</td>\n",
       "      <td>2930.0</td>\n",
       "      <td>0.0</td>\n",
       "      <td>149.1</td>\n",
       "      <td>NaN</td>\n",
       "      <td>серебристый</td>\n",
       "      <td>металл</td>\n",
       "      <td>d2,3 х 6,3</td>\n",
       "      <td>NaN</td>\n",
       "      <td>NaN</td>\n",
       "      <td>Гравировка круговая</td>\n",
       "      <td>['2891', '2892', '2930', '2953', '2972', '2974...</td>\n",
       "    </tr>\n",
       "  </tbody>\n",
       "</table>\n",
       "</div>"
      ],
      "text/plain": [
       "       id                                            url currencyid  \\\n",
       "0  8096.0  https://www.oasiscatalog.com/item/1-000003472        RUB   \n",
       "1  8097.0  https://www.oasiscatalog.com/item/1-000003476        RUB   \n",
       "2  8098.0  https://www.oasiscatalog.com/item/1-000003477        RUB   \n",
       "3  8099.0  https://www.oasiscatalog.com/item/1-000003478        RUB   \n",
       "4  8100.0  https://www.oasiscatalog.com/item/1-000003479        RUB   \n",
       "\n",
       "                shortname                                               name  \\\n",
       "0            Фонарик Lyra                    Фонарик Lyra с карабином, синий   \n",
       "1  Брелок-фонарик Lobster  Брелок-фонарик Lobster с функцией открывалки, ...   \n",
       "2  Брелок-фонарик Lobster  Брелок-фонарик Lobster с функцией открывалки, ...   \n",
       "3  Брелок-фонарик Lobster  Брелок-фонарик Lobster с функцией открывалки, ...   \n",
       "4  Брелок-фонарик Lobster  Брелок-фонарик Lobster с функцией открывалки, ...   \n",
       "\n",
       "  vendorcode  price                                        description  \\\n",
       "0   10418201  145.0  Компактный карманный фонарик с прочным карабин...   \n",
       "1   10418400  213.0  Брелок-фонарик с функцией открывалки – функцио...   \n",
       "2   10418401  213.0  Брелок-фонарик с функцией открывалки – функцио...   \n",
       "3   10418402  213.0  Брелок-фонарик с функцией открывалки – функцио...   \n",
       "4   10418403  213.0  Брелок-фонарик с функцией открывалки – функцио...   \n",
       "\n",
       "   categoryid  rating  dealerPrice  weight                color  material  \\\n",
       "0      2930.0     5.0        101.5     NaN                синий  алюминий   \n",
       "1      2930.0     0.0        149.1     NaN   черный/серебристый    металл   \n",
       "2      2930.0     0.0        149.1     NaN    синий/серебристый    металл   \n",
       "3      2930.0     5.0        149.1     NaN  красный/серебристый    металл   \n",
       "4      2930.0     0.0        149.1     NaN          серебристый    металл   \n",
       "\n",
       "     prodsize  qtypics  picssize          applicMetod  \\\n",
       "0      d1 х 6      NaN       NaN          Тампопечать   \n",
       "1  d2,3 х 6,3      NaN       NaN  Гравировка круговая   \n",
       "2  d2,3 х 6,3      NaN       NaN  Гравировка круговая   \n",
       "3  d2,3 х 6,3      NaN       NaN  Гравировка круговая   \n",
       "4  d2,3 х 6,3      NaN       NaN  Гравировка круговая   \n",
       "\n",
       "                                      fullCategories  \n",
       "0                           ['2891', '2892', '2930']  \n",
       "1  ['2891', '2892', '2930', '2953', '2972', '2974...  \n",
       "2  ['2891', '2892', '2930', '2953', '2972', '2974...  \n",
       "3  ['2891', '2892', '2930', '2953', '2972', '2974...  \n",
       "4  ['2891', '2892', '2930', '2953', '2972', '2974...  "
      ]
     },
     "metadata": {},
     "output_type": "display_data"
    },
    {
     "name": "stdout",
     "output_type": "stream",
     "text": [
      "Конец датасета\n"
     ]
    },
    {
     "data": {
      "text/html": [
       "<div>\n",
       "<style scoped>\n",
       "    .dataframe tbody tr th:only-of-type {\n",
       "        vertical-align: middle;\n",
       "    }\n",
       "\n",
       "    .dataframe tbody tr th {\n",
       "        vertical-align: top;\n",
       "    }\n",
       "\n",
       "    .dataframe thead th {\n",
       "        text-align: right;\n",
       "    }\n",
       "</style>\n",
       "<table border=\"1\" class=\"dataframe\">\n",
       "  <thead>\n",
       "    <tr style=\"text-align: right;\">\n",
       "      <th></th>\n",
       "      <th>id</th>\n",
       "      <th>url</th>\n",
       "      <th>currencyid</th>\n",
       "      <th>shortname</th>\n",
       "      <th>name</th>\n",
       "      <th>vendorcode</th>\n",
       "      <th>price</th>\n",
       "      <th>description</th>\n",
       "      <th>categoryid</th>\n",
       "      <th>rating</th>\n",
       "      <th>dealerPrice</th>\n",
       "      <th>weight</th>\n",
       "      <th>color</th>\n",
       "      <th>material</th>\n",
       "      <th>prodsize</th>\n",
       "      <th>qtypics</th>\n",
       "      <th>picssize</th>\n",
       "      <th>applicMetod</th>\n",
       "      <th>fullCategories</th>\n",
       "    </tr>\n",
       "  </thead>\n",
       "  <tbody>\n",
       "    <tr>\n",
       "      <th>18530</th>\n",
       "      <td>NaN</td>\n",
       "      <td>NaN</td>\n",
       "      <td>NaN</td>\n",
       "      <td>NaN</td>\n",
       "      <td>NaN</td>\n",
       "      <td>NaN</td>\n",
       "      <td>NaN</td>\n",
       "      <td>NaN</td>\n",
       "      <td>NaN</td>\n",
       "      <td>NaN</td>\n",
       "      <td>NaN</td>\n",
       "      <td>NaN</td>\n",
       "      <td>NaN</td>\n",
       "      <td>NaN</td>\n",
       "      <td>NaN</td>\n",
       "      <td>NaN</td>\n",
       "      <td>NaN</td>\n",
       "      <td>NaN</td>\n",
       "      <td>NaN</td>\n",
       "    </tr>\n",
       "    <tr>\n",
       "      <th>18531</th>\n",
       "      <td>NaN</td>\n",
       "      <td>NaN</td>\n",
       "      <td>NaN</td>\n",
       "      <td>NaN</td>\n",
       "      <td>NaN</td>\n",
       "      <td>NaN</td>\n",
       "      <td>NaN</td>\n",
       "      <td>NaN</td>\n",
       "      <td>NaN</td>\n",
       "      <td>NaN</td>\n",
       "      <td>NaN</td>\n",
       "      <td>NaN</td>\n",
       "      <td>NaN</td>\n",
       "      <td>NaN</td>\n",
       "      <td>NaN</td>\n",
       "      <td>NaN</td>\n",
       "      <td>NaN</td>\n",
       "      <td>NaN</td>\n",
       "      <td>NaN</td>\n",
       "    </tr>\n",
       "    <tr>\n",
       "      <th>18532</th>\n",
       "      <td>NaN</td>\n",
       "      <td>NaN</td>\n",
       "      <td>NaN</td>\n",
       "      <td>NaN</td>\n",
       "      <td>NaN</td>\n",
       "      <td>NaN</td>\n",
       "      <td>NaN</td>\n",
       "      <td>NaN</td>\n",
       "      <td>NaN</td>\n",
       "      <td>NaN</td>\n",
       "      <td>NaN</td>\n",
       "      <td>NaN</td>\n",
       "      <td>NaN</td>\n",
       "      <td>NaN</td>\n",
       "      <td>NaN</td>\n",
       "      <td>NaN</td>\n",
       "      <td>NaN</td>\n",
       "      <td>NaN</td>\n",
       "      <td>NaN</td>\n",
       "    </tr>\n",
       "    <tr>\n",
       "      <th>18533</th>\n",
       "      <td>NaN</td>\n",
       "      <td>NaN</td>\n",
       "      <td>NaN</td>\n",
       "      <td>NaN</td>\n",
       "      <td>NaN</td>\n",
       "      <td>NaN</td>\n",
       "      <td>NaN</td>\n",
       "      <td>NaN</td>\n",
       "      <td>NaN</td>\n",
       "      <td>NaN</td>\n",
       "      <td>NaN</td>\n",
       "      <td>NaN</td>\n",
       "      <td>NaN</td>\n",
       "      <td>NaN</td>\n",
       "      <td>NaN</td>\n",
       "      <td>NaN</td>\n",
       "      <td>NaN</td>\n",
       "      <td>NaN</td>\n",
       "      <td>NaN</td>\n",
       "    </tr>\n",
       "    <tr>\n",
       "      <th>18534</th>\n",
       "      <td>NaN</td>\n",
       "      <td>NaN</td>\n",
       "      <td>NaN</td>\n",
       "      <td>NaN</td>\n",
       "      <td>NaN</td>\n",
       "      <td>NaN</td>\n",
       "      <td>NaN</td>\n",
       "      <td>NaN</td>\n",
       "      <td>NaN</td>\n",
       "      <td>NaN</td>\n",
       "      <td>NaN</td>\n",
       "      <td>NaN</td>\n",
       "      <td>NaN</td>\n",
       "      <td>NaN</td>\n",
       "      <td>NaN</td>\n",
       "      <td>NaN</td>\n",
       "      <td>NaN</td>\n",
       "      <td>NaN</td>\n",
       "      <td>NaN</td>\n",
       "    </tr>\n",
       "  </tbody>\n",
       "</table>\n",
       "</div>"
      ],
      "text/plain": [
       "       id  url currencyid shortname name vendorcode  price description  \\\n",
       "18530 NaN  NaN        NaN       NaN  NaN        NaN    NaN         NaN   \n",
       "18531 NaN  NaN        NaN       NaN  NaN        NaN    NaN         NaN   \n",
       "18532 NaN  NaN        NaN       NaN  NaN        NaN    NaN         NaN   \n",
       "18533 NaN  NaN        NaN       NaN  NaN        NaN    NaN         NaN   \n",
       "18534 NaN  NaN        NaN       NaN  NaN        NaN    NaN         NaN   \n",
       "\n",
       "       categoryid  rating  dealerPrice  weight color material prodsize  \\\n",
       "18530         NaN     NaN          NaN     NaN   NaN      NaN      NaN   \n",
       "18531         NaN     NaN          NaN     NaN   NaN      NaN      NaN   \n",
       "18532         NaN     NaN          NaN     NaN   NaN      NaN      NaN   \n",
       "18533         NaN     NaN          NaN     NaN   NaN      NaN      NaN   \n",
       "18534         NaN     NaN          NaN     NaN   NaN      NaN      NaN   \n",
       "\n",
       "       qtypics  picssize applicMetod fullCategories  \n",
       "18530      NaN       NaN         NaN            NaN  \n",
       "18531      NaN       NaN         NaN            NaN  \n",
       "18532      NaN       NaN         NaN            NaN  \n",
       "18533      NaN       NaN         NaN            NaN  \n",
       "18534      NaN       NaN         NaN            NaN  "
      ]
     },
     "metadata": {},
     "output_type": "display_data"
    },
    {
     "name": "stdout",
     "output_type": "stream",
     "text": [
      "Размер\n"
     ]
    },
    {
     "data": {
      "text/plain": [
       "(18535, 19)"
      ]
     },
     "metadata": {},
     "output_type": "display_data"
    },
    {
     "name": "stdout",
     "output_type": "stream",
     "text": [
      "Колонки\n"
     ]
    },
    {
     "data": {
      "text/plain": [
       "Index(['id', 'url', 'currencyid', 'shortname', 'name', 'vendorcode', 'price',\n",
       "       'description', 'categoryid', 'rating', 'dealerPrice', 'weight', 'color',\n",
       "       'material', 'prodsize', 'qtypics', 'picssize', 'applicMetod',\n",
       "       'fullCategories'],\n",
       "      dtype='object')"
      ]
     },
     "metadata": {},
     "output_type": "display_data"
    },
    {
     "name": "stdout",
     "output_type": "stream",
     "text": [
      "Пропушенные значения\n"
     ]
    },
    {
     "data": {
      "text/plain": [
       "8630"
      ]
     },
     "metadata": {},
     "output_type": "display_data"
    }
   ],
   "source": [
    "print('Начало датасета')\n",
    "display(data.head())\n",
    "print('Конец датасета')\n",
    "display(data.tail())\n",
    "print('Размер')\n",
    "display(data.shape)\n",
    "print('Колонки')\n",
    "display(data.columns)\n",
    "print('Пропушенные значения')\n",
    "display(data['id'].isna().sum())"
   ]
  },
  {
   "cell_type": "markdown",
   "metadata": {},
   "source": [
    "Видим, что присутствкет много пропущенных значений."
   ]
  },
  {
   "cell_type": "markdown",
   "metadata": {},
   "source": [
    "##### Убираем пропуски id\n"
   ]
  },
  {
   "cell_type": "code",
   "execution_count": 359,
   "metadata": {},
   "outputs": [],
   "source": [
    "data = data.dropna(subset=['id'])"
   ]
  },
  {
   "cell_type": "markdown",
   "metadata": {},
   "source": [
    "Проверяяем"
   ]
  },
  {
   "cell_type": "code",
   "execution_count": 360,
   "metadata": {},
   "outputs": [
    {
     "data": {
      "text/plain": [
       "0"
      ]
     },
     "metadata": {},
     "output_type": "display_data"
    }
   ],
   "source": [
    "display(data['id'].isna().sum())"
   ]
  },
  {
   "cell_type": "markdown",
   "metadata": {},
   "source": [
    "##### Убираем остальные пропуски, где это необходимо"
   ]
  },
  {
   "cell_type": "markdown",
   "metadata": {},
   "source": [
    "Также по таблице:\n",
    "\n",
    "| Ключ      | Название столбца | Тип данных        | Обяз. | Комментарии                                                      |\n",
    "|-----------|-------------------|-------------------|-------|-------------------------------------------------------------------|\n",
    "| Первичный | ID               | Bigint(20)        | Да    | Суррогатный первичный ключ                                       |\n",
    "|           | URL              | Varchar(100)      | Да    | Ссылка на товар в оазисе, чтобы выгружать картинку.              |\n",
    "|           | ShortName        | Varchar(150)      | Да    | Краткое наименование                                             |\n",
    "|           | Name             | Varchar(200)      | Да    | Полное наименование сувенира                                     |\n",
    "|           | Description      | Varchar(2500)     | Да    | Описание сувенира                                                |\n",
    "|           | Rating           | Smallint(6)       | Да    | Популярность сувенира                                            |\n",
    "| Внешний   | IdCategory       | Bigint(20)        | Да    | Вторичный ключ к таблице SouvenirsCategories                     |\n",
    "| Внешний   | IdColor          | Bigint(20)        | Да    | Тип сувенира Colors                                              |\n",
    "|           | Size             | Varchar(150)      | Да    | Размер сувенира                                                  |\n",
    "|           | IdMaterial       | Int(11)           | Да    | Вторичный ключ к таблице SouvenirMaterials                       |\n",
    "| Внешний   | Weight           | Decimal(10,3)     | Нет   | Вес сувенира                                                     |\n",
    "|           | QTypics          | Varchar(10)       | Нет   | Количество встроенных элементов (Например, страниц в блокноте)   |\n",
    "|           | PicsSize         | Varchar(20)       | Нет   | Размер встроенного элемента (например, размер картинки в рамке)  |\n",
    "| Внешний   | IdApplicMetod    | Int(11)           | Да    | Вторичный ключ в таблице ApplicationMetods                       |\n",
    "|           | AllCategories    | Varchar(150)      | Да    | Полный путь по категориям                                        |\n",
    "|           | DealerPrice      | Decimal(10,2)     | Да    | Цена для партнеров                                               |\n",
    "|           | Price            | Decimal(10,2)     | Да    | Цена                                                              |\n",
    "|           | Comments         | Varchar(1000)     | Нет   | Комментарий к сувениру                                           |\n",
    "\n",
    "Есть столбцы, которые не могут оставаться пустыми. Удалим отсутствующие значения для таких столбцов."
   ]
  },
  {
   "cell_type": "markdown",
   "metadata": {},
   "source": [
    "Для этого посмотрим на общее количество пропустков."
   ]
  },
  {
   "cell_type": "code",
   "execution_count": 361,
   "metadata": {},
   "outputs": [
    {
     "data": {
      "text/plain": [
       "id                   0\n",
       "url                  0\n",
       "currencyid           0\n",
       "shortname            0\n",
       "name                 0\n",
       "vendorcode           0\n",
       "price                0\n",
       "description        661\n",
       "categoryid           0\n",
       "rating               1\n",
       "dealerPrice          0\n",
       "weight            4767\n",
       "color               38\n",
       "material            65\n",
       "prodsize          4380\n",
       "qtypics           9905\n",
       "picssize          9905\n",
       "applicMetod       2273\n",
       "fullCategories       0\n",
       "dtype: int64"
      ]
     },
     "metadata": {},
     "output_type": "display_data"
    }
   ],
   "source": [
    "display(data.isna().sum())"
   ]
  },
  {
   "cell_type": "markdown",
   "metadata": {},
   "source": [
    "Убираем пропуски, где необходимо."
   ]
  },
  {
   "cell_type": "code",
   "execution_count": 362,
   "metadata": {},
   "outputs": [],
   "source": [
    "data = data.dropna(subset=['description', 'color', 'material', 'applicMetod', 'rating', 'prodsize'])"
   ]
  },
  {
   "cell_type": "code",
   "execution_count": 363,
   "metadata": {},
   "outputs": [
    {
     "data": {
      "text/plain": [
       "description    0\n",
       "color          0\n",
       "material       0\n",
       "applicMetod    0\n",
       "rating         0\n",
       "prodsize       0\n",
       "dtype: int64"
      ]
     },
     "metadata": {},
     "output_type": "display_data"
    }
   ],
   "source": [
    "display(data[['description', 'color', 'material', 'applicMetod', 'rating', 'prodsize']].isna().sum())"
   ]
  },
  {
   "cell_type": "markdown",
   "metadata": {},
   "source": [
    "### Разбиваем данные "
   ]
  },
  {
   "cell_type": "markdown",
   "metadata": {},
   "source": [
    "#### Таблица Colors"
   ]
  },
  {
   "cell_type": "code",
   "execution_count": 364,
   "metadata": {},
   "outputs": [
    {
     "name": "stdout",
     "output_type": "stream",
     "text": [
      "Размер датасета\n"
     ]
    },
    {
     "data": {
      "text/plain": [
       "(631, 2)"
      ]
     },
     "metadata": {},
     "output_type": "display_data"
    },
    {
     "name": "stdout",
     "output_type": "stream",
     "text": [
      "Начало датасета\n"
     ]
    },
    {
     "data": {
      "text/html": [
       "<div>\n",
       "<style scoped>\n",
       "    .dataframe tbody tr th:only-of-type {\n",
       "        vertical-align: middle;\n",
       "    }\n",
       "\n",
       "    .dataframe tbody tr th {\n",
       "        vertical-align: top;\n",
       "    }\n",
       "\n",
       "    .dataframe thead th {\n",
       "        text-align: right;\n",
       "    }\n",
       "</style>\n",
       "<table border=\"1\" class=\"dataframe\">\n",
       "  <thead>\n",
       "    <tr style=\"text-align: right;\">\n",
       "      <th></th>\n",
       "      <th>id</th>\n",
       "      <th>name</th>\n",
       "    </tr>\n",
       "  </thead>\n",
       "  <tbody>\n",
       "    <tr>\n",
       "      <th>0</th>\n",
       "      <td>1</td>\n",
       "      <td>синий</td>\n",
       "    </tr>\n",
       "    <tr>\n",
       "      <th>1</th>\n",
       "      <td>2</td>\n",
       "      <td>черный/серебристый</td>\n",
       "    </tr>\n",
       "    <tr>\n",
       "      <th>2</th>\n",
       "      <td>3</td>\n",
       "      <td>синий/серебристый</td>\n",
       "    </tr>\n",
       "    <tr>\n",
       "      <th>3</th>\n",
       "      <td>4</td>\n",
       "      <td>красный/серебристый</td>\n",
       "    </tr>\n",
       "    <tr>\n",
       "      <th>4</th>\n",
       "      <td>5</td>\n",
       "      <td>серебристый</td>\n",
       "    </tr>\n",
       "  </tbody>\n",
       "</table>\n",
       "</div>"
      ],
      "text/plain": [
       "   id                 name\n",
       "0   1                синий\n",
       "1   2   черный/серебристый\n",
       "2   3    синий/серебристый\n",
       "3   4  красный/серебристый\n",
       "4   5          серебристый"
      ]
     },
     "metadata": {},
     "output_type": "display_data"
    }
   ],
   "source": [
    "colors = data['color'].unique()\n",
    "\n",
    "colors_df = pd.DataFrame({\n",
    "        'id': range(1, len(colors) + 1),\n",
    "        'name': colors \n",
    "    }\n",
    ")\n",
    "\n",
    "print('Размер датасета')\n",
    "display(colors_df.shape)\n",
    "print('Начало датасета')\n",
    "display(colors_df.head())"
   ]
  },
  {
   "cell_type": "markdown",
   "metadata": {},
   "source": [
    "##### Создаем CSV файл для таблицы Colors\n"
   ]
  },
  {
   "cell_type": "code",
   "execution_count": 365,
   "metadata": {},
   "outputs": [],
   "source": [
    "colors_df.to_csv('./normalized_datasets/colors_dataset.csv', sep=';', index=False)"
   ]
  },
  {
   "cell_type": "markdown",
   "metadata": {},
   "source": [
    "#### Таблица SouvenirMaterials"
   ]
  },
  {
   "cell_type": "code",
   "execution_count": 366,
   "metadata": {},
   "outputs": [
    {
     "name": "stdout",
     "output_type": "stream",
     "text": [
      "Размер датасета\n"
     ]
    },
    {
     "data": {
      "text/plain": [
       "(457, 2)"
      ]
     },
     "metadata": {},
     "output_type": "display_data"
    },
    {
     "name": "stdout",
     "output_type": "stream",
     "text": [
      "Начало датасета\n"
     ]
    },
    {
     "data": {
      "text/html": [
       "<div>\n",
       "<style scoped>\n",
       "    .dataframe tbody tr th:only-of-type {\n",
       "        vertical-align: middle;\n",
       "    }\n",
       "\n",
       "    .dataframe tbody tr th {\n",
       "        vertical-align: top;\n",
       "    }\n",
       "\n",
       "    .dataframe thead th {\n",
       "        text-align: right;\n",
       "    }\n",
       "</style>\n",
       "<table border=\"1\" class=\"dataframe\">\n",
       "  <thead>\n",
       "    <tr style=\"text-align: right;\">\n",
       "      <th></th>\n",
       "      <th>id</th>\n",
       "      <th>name</th>\n",
       "    </tr>\n",
       "  </thead>\n",
       "  <tbody>\n",
       "    <tr>\n",
       "      <th>0</th>\n",
       "      <td>1</td>\n",
       "      <td>алюминий</td>\n",
       "    </tr>\n",
       "    <tr>\n",
       "      <th>1</th>\n",
       "      <td>2</td>\n",
       "      <td>металл</td>\n",
       "    </tr>\n",
       "    <tr>\n",
       "      <th>2</th>\n",
       "      <td>3</td>\n",
       "      <td>АБС пластик</td>\n",
       "    </tr>\n",
       "    <tr>\n",
       "      <th>3</th>\n",
       "      <td>4</td>\n",
       "      <td>алюминий/металл/силикон</td>\n",
       "    </tr>\n",
       "    <tr>\n",
       "      <th>4</th>\n",
       "      <td>5</td>\n",
       "      <td>пластик/алюминий</td>\n",
       "    </tr>\n",
       "  </tbody>\n",
       "</table>\n",
       "</div>"
      ],
      "text/plain": [
       "   id                     name\n",
       "0   1                 алюминий\n",
       "1   2                   металл\n",
       "2   3              АБС пластик\n",
       "3   4  алюминий/металл/силикон\n",
       "4   5         пластик/алюминий"
      ]
     },
     "metadata": {},
     "output_type": "display_data"
    }
   ],
   "source": [
    "materials = data['material'].unique()\n",
    "\n",
    "materials_df = pd.DataFrame({\n",
    "        'id': range(1, len(materials) + 1),\n",
    "        'name': materials \n",
    "    }\n",
    ")\n",
    "\n",
    "print('Размер датасета')\n",
    "display(materials_df.shape)\n",
    "print('Начало датасета')\n",
    "display(materials_df.head())"
   ]
  },
  {
   "cell_type": "markdown",
   "metadata": {},
   "source": [
    "##### Создаем CSV файл для таблицы SouvenirMaterials"
   ]
  },
  {
   "cell_type": "code",
   "execution_count": 367,
   "metadata": {},
   "outputs": [],
   "source": [
    "materials_df.to_csv('./normalized_datasets/materials_dataset.csv', sep=';', index=False)"
   ]
  },
  {
   "cell_type": "markdown",
   "metadata": {},
   "source": [
    "#### Таблица ApplicationMethods\n"
   ]
  },
  {
   "cell_type": "code",
   "execution_count": 368,
   "metadata": {},
   "outputs": [
    {
     "name": "stdout",
     "output_type": "stream",
     "text": [
      "Размер датасета\n"
     ]
    },
    {
     "data": {
      "text/plain": [
       "(17, 2)"
      ]
     },
     "metadata": {},
     "output_type": "display_data"
    },
    {
     "name": "stdout",
     "output_type": "stream",
     "text": [
      "Начало датасета\n"
     ]
    },
    {
     "data": {
      "text/html": [
       "<div>\n",
       "<style scoped>\n",
       "    .dataframe tbody tr th:only-of-type {\n",
       "        vertical-align: middle;\n",
       "    }\n",
       "\n",
       "    .dataframe tbody tr th {\n",
       "        vertical-align: top;\n",
       "    }\n",
       "\n",
       "    .dataframe thead th {\n",
       "        text-align: right;\n",
       "    }\n",
       "</style>\n",
       "<table border=\"1\" class=\"dataframe\">\n",
       "  <thead>\n",
       "    <tr style=\"text-align: right;\">\n",
       "      <th></th>\n",
       "      <th>id</th>\n",
       "      <th>name</th>\n",
       "    </tr>\n",
       "  </thead>\n",
       "  <tbody>\n",
       "    <tr>\n",
       "      <th>0</th>\n",
       "      <td>1</td>\n",
       "      <td>Тампопечать</td>\n",
       "    </tr>\n",
       "    <tr>\n",
       "      <th>1</th>\n",
       "      <td>2</td>\n",
       "      <td>Гравировка круговая</td>\n",
       "    </tr>\n",
       "    <tr>\n",
       "      <th>2</th>\n",
       "      <td>3</td>\n",
       "      <td>Гравировка</td>\n",
       "    </tr>\n",
       "    <tr>\n",
       "      <th>3</th>\n",
       "      <td>4</td>\n",
       "      <td>Металлостикер</td>\n",
       "    </tr>\n",
       "    <tr>\n",
       "      <th>4</th>\n",
       "      <td>5</td>\n",
       "      <td>Шильд спектрум</td>\n",
       "    </tr>\n",
       "  </tbody>\n",
       "</table>\n",
       "</div>"
      ],
      "text/plain": [
       "   id                 name\n",
       "0   1          Тампопечать\n",
       "1   2  Гравировка круговая\n",
       "2   3           Гравировка\n",
       "3   4        Металлостикер\n",
       "4   5       Шильд спектрум"
      ]
     },
     "metadata": {},
     "output_type": "display_data"
    }
   ],
   "source": [
    "appmethods = data['applicMetod'].unique()\n",
    "\n",
    "appmethods_df = pd.DataFrame({\n",
    "        'id': range(1, len(appmethods) + 1),\n",
    "        'name': appmethods \n",
    "    }\n",
    ")\n",
    "\n",
    "print('Размер датасета')\n",
    "display(appmethods_df.shape)\n",
    "print('Начало датасета')\n",
    "display(appmethods_df.head())\n"
   ]
  },
  {
   "cell_type": "markdown",
   "metadata": {},
   "source": [
    "##### Создаем CSV файл для таблицы ApplicationMethods"
   ]
  },
  {
   "cell_type": "code",
   "execution_count": 369,
   "metadata": {},
   "outputs": [],
   "source": [
    "appmethods_df.to_csv('./normalized_datasets/appmethods_dataset.csv', sep=';', index=False)"
   ]
  },
  {
   "cell_type": "markdown",
   "metadata": {},
   "source": [
    "#### Таблица SouvenirCategories"
   ]
  },
  {
   "cell_type": "markdown",
   "metadata": {},
   "source": [
    "##### Переименовываем столбцы в соответствии с базой данных"
   ]
  },
  {
   "cell_type": "code",
   "execution_count": 370,
   "metadata": {},
   "outputs": [],
   "source": [
    "categories_df = categories_df.rename(columns={'parent_id': 'idparent'})"
   ]
  },
  {
   "cell_type": "markdown",
   "metadata": {},
   "source": [
    "##### Меняем тип столбцов"
   ]
  },
  {
   "cell_type": "code",
   "execution_count": 371,
   "metadata": {},
   "outputs": [],
   "source": [
    "categories_df['idparent'] = categories_df['idparent'].fillna(0).astype(int)"
   ]
  },
  {
   "cell_type": "markdown",
   "metadata": {},
   "source": [
    "##### Создаем CSV файл для таблицы SouvenirCategories"
   ]
  },
  {
   "cell_type": "code",
   "execution_count": 372,
   "metadata": {},
   "outputs": [],
   "source": [
    "categories_df.to_csv('./normalized_datasets/categories_dataset.csv', sep=';', index=False)"
   ]
  },
  {
   "cell_type": "markdown",
   "metadata": {},
   "source": [
    "#### Таблица Souvenirs\n"
   ]
  },
  {
   "cell_type": "code",
   "execution_count": 373,
   "metadata": {},
   "outputs": [],
   "source": [
    "souvenirs_df = data.copy()"
   ]
  },
  {
   "cell_type": "code",
   "execution_count": 374,
   "metadata": {},
   "outputs": [
    {
     "data": {
      "text/html": [
       "<div>\n",
       "<style scoped>\n",
       "    .dataframe tbody tr th:only-of-type {\n",
       "        vertical-align: middle;\n",
       "    }\n",
       "\n",
       "    .dataframe tbody tr th {\n",
       "        vertical-align: top;\n",
       "    }\n",
       "\n",
       "    .dataframe thead th {\n",
       "        text-align: right;\n",
       "    }\n",
       "</style>\n",
       "<table border=\"1\" class=\"dataframe\">\n",
       "  <thead>\n",
       "    <tr style=\"text-align: right;\">\n",
       "      <th></th>\n",
       "      <th>id</th>\n",
       "      <th>url</th>\n",
       "      <th>currencyid</th>\n",
       "      <th>shortname</th>\n",
       "      <th>name</th>\n",
       "      <th>vendorcode</th>\n",
       "      <th>price</th>\n",
       "      <th>description</th>\n",
       "      <th>categoryid</th>\n",
       "      <th>rating</th>\n",
       "      <th>dealerPrice</th>\n",
       "      <th>weight</th>\n",
       "      <th>color</th>\n",
       "      <th>material</th>\n",
       "      <th>prodsize</th>\n",
       "      <th>qtypics</th>\n",
       "      <th>picssize</th>\n",
       "      <th>applicMetod</th>\n",
       "      <th>fullCategories</th>\n",
       "    </tr>\n",
       "  </thead>\n",
       "  <tbody>\n",
       "    <tr>\n",
       "      <th>0</th>\n",
       "      <td>8096.0</td>\n",
       "      <td>https://www.oasiscatalog.com/item/1-000003472</td>\n",
       "      <td>RUB</td>\n",
       "      <td>Фонарик Lyra</td>\n",
       "      <td>Фонарик Lyra с карабином, синий</td>\n",
       "      <td>10418201</td>\n",
       "      <td>145.0</td>\n",
       "      <td>Компактный карманный фонарик с прочным карабин...</td>\n",
       "      <td>2930.0</td>\n",
       "      <td>5.0</td>\n",
       "      <td>101.5</td>\n",
       "      <td>NaN</td>\n",
       "      <td>синий</td>\n",
       "      <td>алюминий</td>\n",
       "      <td>d1 х 6</td>\n",
       "      <td>NaN</td>\n",
       "      <td>NaN</td>\n",
       "      <td>Тампопечать</td>\n",
       "      <td>['2891', '2892', '2930']</td>\n",
       "    </tr>\n",
       "    <tr>\n",
       "      <th>1</th>\n",
       "      <td>8097.0</td>\n",
       "      <td>https://www.oasiscatalog.com/item/1-000003476</td>\n",
       "      <td>RUB</td>\n",
       "      <td>Брелок-фонарик Lobster</td>\n",
       "      <td>Брелок-фонарик Lobster с функцией открывалки, ...</td>\n",
       "      <td>10418400</td>\n",
       "      <td>213.0</td>\n",
       "      <td>Брелок-фонарик с функцией открывалки – функцио...</td>\n",
       "      <td>2930.0</td>\n",
       "      <td>0.0</td>\n",
       "      <td>149.1</td>\n",
       "      <td>NaN</td>\n",
       "      <td>черный/серебристый</td>\n",
       "      <td>металл</td>\n",
       "      <td>d2,3 х 6,3</td>\n",
       "      <td>NaN</td>\n",
       "      <td>NaN</td>\n",
       "      <td>Гравировка круговая</td>\n",
       "      <td>['2891', '2892', '2930', '2953', '2972', '2974...</td>\n",
       "    </tr>\n",
       "    <tr>\n",
       "      <th>2</th>\n",
       "      <td>8098.0</td>\n",
       "      <td>https://www.oasiscatalog.com/item/1-000003477</td>\n",
       "      <td>RUB</td>\n",
       "      <td>Брелок-фонарик Lobster</td>\n",
       "      <td>Брелок-фонарик Lobster с функцией открывалки, ...</td>\n",
       "      <td>10418401</td>\n",
       "      <td>213.0</td>\n",
       "      <td>Брелок-фонарик с функцией открывалки – функцио...</td>\n",
       "      <td>2930.0</td>\n",
       "      <td>0.0</td>\n",
       "      <td>149.1</td>\n",
       "      <td>NaN</td>\n",
       "      <td>синий/серебристый</td>\n",
       "      <td>металл</td>\n",
       "      <td>d2,3 х 6,3</td>\n",
       "      <td>NaN</td>\n",
       "      <td>NaN</td>\n",
       "      <td>Гравировка круговая</td>\n",
       "      <td>['2891', '2892', '2930', '2953', '2972', '2974...</td>\n",
       "    </tr>\n",
       "    <tr>\n",
       "      <th>3</th>\n",
       "      <td>8099.0</td>\n",
       "      <td>https://www.oasiscatalog.com/item/1-000003478</td>\n",
       "      <td>RUB</td>\n",
       "      <td>Брелок-фонарик Lobster</td>\n",
       "      <td>Брелок-фонарик Lobster с функцией открывалки, ...</td>\n",
       "      <td>10418402</td>\n",
       "      <td>213.0</td>\n",
       "      <td>Брелок-фонарик с функцией открывалки – функцио...</td>\n",
       "      <td>2930.0</td>\n",
       "      <td>5.0</td>\n",
       "      <td>149.1</td>\n",
       "      <td>NaN</td>\n",
       "      <td>красный/серебристый</td>\n",
       "      <td>металл</td>\n",
       "      <td>d2,3 х 6,3</td>\n",
       "      <td>NaN</td>\n",
       "      <td>NaN</td>\n",
       "      <td>Гравировка круговая</td>\n",
       "      <td>['2891', '2892', '2930', '2953', '2972', '2974...</td>\n",
       "    </tr>\n",
       "    <tr>\n",
       "      <th>4</th>\n",
       "      <td>8100.0</td>\n",
       "      <td>https://www.oasiscatalog.com/item/1-000003479</td>\n",
       "      <td>RUB</td>\n",
       "      <td>Брелок-фонарик Lobster</td>\n",
       "      <td>Брелок-фонарик Lobster с функцией открывалки, ...</td>\n",
       "      <td>10418403</td>\n",
       "      <td>213.0</td>\n",
       "      <td>Брелок-фонарик с функцией открывалки – функцио...</td>\n",
       "      <td>2930.0</td>\n",
       "      <td>0.0</td>\n",
       "      <td>149.1</td>\n",
       "      <td>NaN</td>\n",
       "      <td>серебристый</td>\n",
       "      <td>металл</td>\n",
       "      <td>d2,3 х 6,3</td>\n",
       "      <td>NaN</td>\n",
       "      <td>NaN</td>\n",
       "      <td>Гравировка круговая</td>\n",
       "      <td>['2891', '2892', '2930', '2953', '2972', '2974...</td>\n",
       "    </tr>\n",
       "  </tbody>\n",
       "</table>\n",
       "</div>"
      ],
      "text/plain": [
       "       id                                            url currencyid  \\\n",
       "0  8096.0  https://www.oasiscatalog.com/item/1-000003472        RUB   \n",
       "1  8097.0  https://www.oasiscatalog.com/item/1-000003476        RUB   \n",
       "2  8098.0  https://www.oasiscatalog.com/item/1-000003477        RUB   \n",
       "3  8099.0  https://www.oasiscatalog.com/item/1-000003478        RUB   \n",
       "4  8100.0  https://www.oasiscatalog.com/item/1-000003479        RUB   \n",
       "\n",
       "                shortname                                               name  \\\n",
       "0            Фонарик Lyra                    Фонарик Lyra с карабином, синий   \n",
       "1  Брелок-фонарик Lobster  Брелок-фонарик Lobster с функцией открывалки, ...   \n",
       "2  Брелок-фонарик Lobster  Брелок-фонарик Lobster с функцией открывалки, ...   \n",
       "3  Брелок-фонарик Lobster  Брелок-фонарик Lobster с функцией открывалки, ...   \n",
       "4  Брелок-фонарик Lobster  Брелок-фонарик Lobster с функцией открывалки, ...   \n",
       "\n",
       "  vendorcode  price                                        description  \\\n",
       "0   10418201  145.0  Компактный карманный фонарик с прочным карабин...   \n",
       "1   10418400  213.0  Брелок-фонарик с функцией открывалки – функцио...   \n",
       "2   10418401  213.0  Брелок-фонарик с функцией открывалки – функцио...   \n",
       "3   10418402  213.0  Брелок-фонарик с функцией открывалки – функцио...   \n",
       "4   10418403  213.0  Брелок-фонарик с функцией открывалки – функцио...   \n",
       "\n",
       "   categoryid  rating  dealerPrice  weight                color  material  \\\n",
       "0      2930.0     5.0        101.5     NaN                синий  алюминий   \n",
       "1      2930.0     0.0        149.1     NaN   черный/серебристый    металл   \n",
       "2      2930.0     0.0        149.1     NaN    синий/серебристый    металл   \n",
       "3      2930.0     5.0        149.1     NaN  красный/серебристый    металл   \n",
       "4      2930.0     0.0        149.1     NaN          серебристый    металл   \n",
       "\n",
       "     prodsize  qtypics  picssize          applicMetod  \\\n",
       "0      d1 х 6      NaN       NaN          Тампопечать   \n",
       "1  d2,3 х 6,3      NaN       NaN  Гравировка круговая   \n",
       "2  d2,3 х 6,3      NaN       NaN  Гравировка круговая   \n",
       "3  d2,3 х 6,3      NaN       NaN  Гравировка круговая   \n",
       "4  d2,3 х 6,3      NaN       NaN  Гравировка круговая   \n",
       "\n",
       "                                      fullCategories  \n",
       "0                           ['2891', '2892', '2930']  \n",
       "1  ['2891', '2892', '2930', '2953', '2972', '2974...  \n",
       "2  ['2891', '2892', '2930', '2953', '2972', '2974...  \n",
       "3  ['2891', '2892', '2930', '2953', '2972', '2974...  \n",
       "4  ['2891', '2892', '2930', '2953', '2972', '2974...  "
      ]
     },
     "execution_count": 374,
     "metadata": {},
     "output_type": "execute_result"
    }
   ],
   "source": [
    "souvenirs_df.head()"
   ]
  },
  {
   "cell_type": "markdown",
   "metadata": {},
   "source": [
    "##### Объединение с таблицей Colors"
   ]
  },
  {
   "cell_type": "code",
   "execution_count": 375,
   "metadata": {},
   "outputs": [],
   "source": [
    "merged_df = souvenirs_df.merge(colors_df, left_on='color', right_on='name')\n",
    "souvenirs_df = souvenirs_df.assign(idcolor=list(merged_df['id_y']))\n",
    "souvenirs_df = souvenirs_df.drop(columns=['color'])\n"
   ]
  },
  {
   "cell_type": "markdown",
   "metadata": {},
   "source": [
    "##### Объединение с таблицей SouvenirMaterials"
   ]
  },
  {
   "cell_type": "code",
   "execution_count": 376,
   "metadata": {},
   "outputs": [],
   "source": [
    "merged_df = souvenirs_df.merge(materials_df, left_on='material', right_on='name')\n",
    "souvenirs_df = souvenirs_df.assign(idmaterial=list(merged_df['id_y']))\n",
    "souvenirs_df = souvenirs_df.drop(columns=['material'])"
   ]
  },
  {
   "cell_type": "markdown",
   "metadata": {},
   "source": [
    "##### Объединение с таблицей ApplicationMethods"
   ]
  },
  {
   "cell_type": "code",
   "execution_count": 377,
   "metadata": {},
   "outputs": [],
   "source": [
    "merged_df = souvenirs_df.merge(appmethods_df, left_on='applicMetod', right_on='name')\n",
    "souvenirs_df = souvenirs_df.assign(idapplicmethod=list(merged_df['id_y']))\n",
    "souvenirs_df = souvenirs_df.drop(columns=['applicMetod'])"
   ]
  },
  {
   "cell_type": "markdown",
   "metadata": {},
   "source": [
    "##### Переименовываем столбцы"
   ]
  },
  {
   "cell_type": "code",
   "execution_count": 378,
   "metadata": {},
   "outputs": [],
   "source": [
    "souvenirs_df = souvenirs_df.rename(columns={'categoryid': 'idcategory'})\n",
    "souvenirs_df = souvenirs_df.rename(columns={'fullCategories': 'allcategories'})\n",
    "souvenirs_df = souvenirs_df.rename(columns={'dealerPrice': 'dealerprice'})\n",
    "souvenirs_df = souvenirs_df.rename(columns={'prodsize': 'size'})"
   ]
  },
  {
   "cell_type": "markdown",
   "metadata": {},
   "source": [
    "##### Удаляем ненужные столбцы"
   ]
  },
  {
   "cell_type": "code",
   "execution_count": 379,
   "metadata": {},
   "outputs": [],
   "source": [
    "souvenirs_df = souvenirs_df.drop(columns=['currencyid', 'vendorcode'])"
   ]
  },
  {
   "cell_type": "markdown",
   "metadata": {},
   "source": [
    "##### Меняем типы данных"
   ]
  },
  {
   "cell_type": "code",
   "execution_count": 380,
   "metadata": {},
   "outputs": [],
   "source": [
    "souvenirs_df['id'] = souvenirs_df['id'].astype(int)\n",
    "souvenirs_df['rating'] = souvenirs_df['rating'].astype(int)\n",
    "souvenirs_df['idcategory'] = souvenirs_df['idcategory'].astype(int)\n",
    "souvenirs_df['price'] = souvenirs_df['price'].astype(float)\n",
    "souvenirs_df['dealerprice'] = souvenirs_df['dealerprice'].astype(float)\n",
    "souvenirs_df['idcolor'] = souvenirs_df['idcolor'].astype(int)\n",
    "souvenirs_df['idmaterial'] = souvenirs_df['idmaterial'].astype(int)\n",
    "souvenirs_df['idapplicmethod'] = souvenirs_df['idapplicmethod'].astype(int)\n"
   ]
  },
  {
   "cell_type": "markdown",
   "metadata": {},
   "source": [
    "##### Добавим отсутствующий столбец comments"
   ]
  },
  {
   "cell_type": "code",
   "execution_count": 381,
   "metadata": {},
   "outputs": [],
   "source": [
    "souvenirs_df['comments'] = np.nan"
   ]
  },
  {
   "cell_type": "code",
   "execution_count": 382,
   "metadata": {},
   "outputs": [
    {
     "data": {
      "text/plain": [
       "id                   0\n",
       "url                  0\n",
       "shortname            0\n",
       "name                 0\n",
       "price                0\n",
       "description          0\n",
       "idcategory           0\n",
       "rating               0\n",
       "dealerprice          0\n",
       "weight            2205\n",
       "size                 0\n",
       "qtypics           3993\n",
       "picssize          3993\n",
       "allcategories        0\n",
       "idcolor              0\n",
       "idmaterial           0\n",
       "idapplicmethod       0\n",
       "comments          3993\n",
       "dtype: int64"
      ]
     },
     "execution_count": 382,
     "metadata": {},
     "output_type": "execute_result"
    }
   ],
   "source": [
    "souvenirs_df.isna().sum()"
   ]
  },
  {
   "cell_type": "markdown",
   "metadata": {},
   "source": [
    "##### Поменяем порядок столбцов"
   ]
  },
  {
   "cell_type": "code",
   "execution_count": 383,
   "metadata": {},
   "outputs": [],
   "source": [
    "new_order = ['id', 'url', 'shortname', 'name', 'description', 'rating', 'idcategory', 'idcolor', 'size', 'idmaterial', 'weight', 'qtypics', 'picssize', 'idapplicmethod', 'allcategories', 'dealerprice', 'price', 'comments']\n",
    "souvenirs_df = souvenirs_df[new_order]"
   ]
  },
  {
   "cell_type": "code",
   "execution_count": 384,
   "metadata": {},
   "outputs": [
    {
     "data": {
      "text/html": [
       "<div>\n",
       "<style scoped>\n",
       "    .dataframe tbody tr th:only-of-type {\n",
       "        vertical-align: middle;\n",
       "    }\n",
       "\n",
       "    .dataframe tbody tr th {\n",
       "        vertical-align: top;\n",
       "    }\n",
       "\n",
       "    .dataframe thead th {\n",
       "        text-align: right;\n",
       "    }\n",
       "</style>\n",
       "<table border=\"1\" class=\"dataframe\">\n",
       "  <thead>\n",
       "    <tr style=\"text-align: right;\">\n",
       "      <th></th>\n",
       "      <th>id</th>\n",
       "      <th>url</th>\n",
       "      <th>shortname</th>\n",
       "      <th>name</th>\n",
       "      <th>description</th>\n",
       "      <th>rating</th>\n",
       "      <th>idcategory</th>\n",
       "      <th>idcolor</th>\n",
       "      <th>size</th>\n",
       "      <th>idmaterial</th>\n",
       "      <th>weight</th>\n",
       "      <th>qtypics</th>\n",
       "      <th>picssize</th>\n",
       "      <th>idapplicmethod</th>\n",
       "      <th>allcategories</th>\n",
       "      <th>dealerprice</th>\n",
       "      <th>price</th>\n",
       "      <th>comments</th>\n",
       "    </tr>\n",
       "  </thead>\n",
       "  <tbody>\n",
       "    <tr>\n",
       "      <th>0</th>\n",
       "      <td>8096</td>\n",
       "      <td>https://www.oasiscatalog.com/item/1-000003472</td>\n",
       "      <td>Фонарик Lyra</td>\n",
       "      <td>Фонарик Lyra с карабином, синий</td>\n",
       "      <td>Компактный карманный фонарик с прочным карабин...</td>\n",
       "      <td>5</td>\n",
       "      <td>2930</td>\n",
       "      <td>1</td>\n",
       "      <td>d1 х 6</td>\n",
       "      <td>1</td>\n",
       "      <td>NaN</td>\n",
       "      <td>NaN</td>\n",
       "      <td>NaN</td>\n",
       "      <td>1</td>\n",
       "      <td>['2891', '2892', '2930']</td>\n",
       "      <td>101.5</td>\n",
       "      <td>145.0</td>\n",
       "      <td>NaN</td>\n",
       "    </tr>\n",
       "    <tr>\n",
       "      <th>1</th>\n",
       "      <td>8097</td>\n",
       "      <td>https://www.oasiscatalog.com/item/1-000003476</td>\n",
       "      <td>Брелок-фонарик Lobster</td>\n",
       "      <td>Брелок-фонарик Lobster с функцией открывалки, ...</td>\n",
       "      <td>Брелок-фонарик с функцией открывалки – функцио...</td>\n",
       "      <td>0</td>\n",
       "      <td>2930</td>\n",
       "      <td>2</td>\n",
       "      <td>d2,3 х 6,3</td>\n",
       "      <td>2</td>\n",
       "      <td>NaN</td>\n",
       "      <td>NaN</td>\n",
       "      <td>NaN</td>\n",
       "      <td>2</td>\n",
       "      <td>['2891', '2892', '2930', '2953', '2972', '2974...</td>\n",
       "      <td>149.1</td>\n",
       "      <td>213.0</td>\n",
       "      <td>NaN</td>\n",
       "    </tr>\n",
       "    <tr>\n",
       "      <th>2</th>\n",
       "      <td>8098</td>\n",
       "      <td>https://www.oasiscatalog.com/item/1-000003477</td>\n",
       "      <td>Брелок-фонарик Lobster</td>\n",
       "      <td>Брелок-фонарик Lobster с функцией открывалки, ...</td>\n",
       "      <td>Брелок-фонарик с функцией открывалки – функцио...</td>\n",
       "      <td>0</td>\n",
       "      <td>2930</td>\n",
       "      <td>3</td>\n",
       "      <td>d2,3 х 6,3</td>\n",
       "      <td>2</td>\n",
       "      <td>NaN</td>\n",
       "      <td>NaN</td>\n",
       "      <td>NaN</td>\n",
       "      <td>2</td>\n",
       "      <td>['2891', '2892', '2930', '2953', '2972', '2974...</td>\n",
       "      <td>149.1</td>\n",
       "      <td>213.0</td>\n",
       "      <td>NaN</td>\n",
       "    </tr>\n",
       "  </tbody>\n",
       "</table>\n",
       "</div>"
      ],
      "text/plain": [
       "     id                                            url  \\\n",
       "0  8096  https://www.oasiscatalog.com/item/1-000003472   \n",
       "1  8097  https://www.oasiscatalog.com/item/1-000003476   \n",
       "2  8098  https://www.oasiscatalog.com/item/1-000003477   \n",
       "\n",
       "                shortname                                               name  \\\n",
       "0            Фонарик Lyra                    Фонарик Lyra с карабином, синий   \n",
       "1  Брелок-фонарик Lobster  Брелок-фонарик Lobster с функцией открывалки, ...   \n",
       "2  Брелок-фонарик Lobster  Брелок-фонарик Lobster с функцией открывалки, ...   \n",
       "\n",
       "                                         description  rating  idcategory  \\\n",
       "0  Компактный карманный фонарик с прочным карабин...       5        2930   \n",
       "1  Брелок-фонарик с функцией открывалки – функцио...       0        2930   \n",
       "2  Брелок-фонарик с функцией открывалки – функцио...       0        2930   \n",
       "\n",
       "   idcolor        size  idmaterial  weight  qtypics  picssize  idapplicmethod  \\\n",
       "0        1      d1 х 6           1     NaN      NaN       NaN               1   \n",
       "1        2  d2,3 х 6,3           2     NaN      NaN       NaN               2   \n",
       "2        3  d2,3 х 6,3           2     NaN      NaN       NaN               2   \n",
       "\n",
       "                                       allcategories  dealerprice  price  \\\n",
       "0                           ['2891', '2892', '2930']        101.5  145.0   \n",
       "1  ['2891', '2892', '2930', '2953', '2972', '2974...        149.1  213.0   \n",
       "2  ['2891', '2892', '2930', '2953', '2972', '2974...        149.1  213.0   \n",
       "\n",
       "   comments  \n",
       "0       NaN  \n",
       "1       NaN  \n",
       "2       NaN  "
      ]
     },
     "execution_count": 384,
     "metadata": {},
     "output_type": "execute_result"
    }
   ],
   "source": [
    "souvenirs_df.head(3)"
   ]
  },
  {
   "cell_type": "markdown",
   "metadata": {},
   "source": [
    "##### Создаем CSV файл для таблицы Souvenirs"
   ]
  },
  {
   "cell_type": "code",
   "execution_count": 385,
   "metadata": {},
   "outputs": [],
   "source": [
    "souvenirs_df.to_csv('./normalized_datasets/souvenirs_dataset.csv', sep=';', index=False)"
   ]
  },
  {
   "cell_type": "code",
   "execution_count": null,
   "metadata": {},
   "outputs": [],
   "source": []
  }
 ],
 "metadata": {
  "kernelspec": {
   "display_name": "Python 3",
   "language": "python",
   "name": "python3"
  },
  "language_info": {
   "codemirror_mode": {
    "name": "ipython",
    "version": 3
   },
   "file_extension": ".py",
   "mimetype": "text/x-python",
   "name": "python",
   "nbconvert_exporter": "python",
   "pygments_lexer": "ipython3",
   "version": "3.12.3"
  }
 },
 "nbformat": 4,
 "nbformat_minor": 2
}
